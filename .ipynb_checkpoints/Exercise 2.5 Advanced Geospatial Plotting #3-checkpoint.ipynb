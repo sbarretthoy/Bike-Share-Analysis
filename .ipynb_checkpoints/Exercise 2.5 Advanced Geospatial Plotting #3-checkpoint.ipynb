{
 "cells": [
  {
   "cell_type": "markdown",
   "id": "fb257cd9-58ca-4641-8cd9-cdf0b27c4036",
   "metadata": {},
   "source": [
    "## Exercise 2.5 Advanced Geospatial Plotting\n",
    "    3. In the data set from the previous task, create a new column with the value of 1. Then create a new aggregated dataframe that contains 3 columns: starting station, ending station, and the count of trips between those stations."
   ]
  },
  {
   "cell_type": "code",
   "execution_count": 1,
   "id": "17943426-175d-45bd-b774-5c21b5b63790",
   "metadata": {
    "tags": []
   },
   "outputs": [],
   "source": [
    "import pandas as pd\n",
    "import os\n",
    "from keplergl import KeplerGl\n",
    "from pyproj import CRS \n",
    "import numpy as np\n",
    "from matplotlib import pyplot as plt"
   ]
  },
  {
   "cell_type": "code",
   "execution_count": 2,
   "id": "79500e88-11cf-461d-8873-2c5e44233ec6",
   "metadata": {
    "tags": []
   },
   "outputs": [
    {
     "name": "stderr",
     "output_type": "stream",
     "text": [
      "/var/folders/wd/xh8m0hc916l1ffmsssspd3f40000gn/T/ipykernel_67176/3816047514.py:1: DtypeWarning: Columns (6,8) have mixed types. Specify dtype option on import or set low_memory=False.\n",
      "  df = pd.read_csv('newyork_data.csv', index_col = 0)\n"
     ]
    }
   ],
   "source": [
    "df = pd.read_csv('newyork_data.csv', index_col = 0)"
   ]
  },
  {
   "cell_type": "code",
   "execution_count": 3,
   "id": "d44493d6-2f57-4296-807d-5470203d3580",
   "metadata": {
    "tags": []
   },
   "outputs": [
    {
     "data": {
      "text/plain": [
       "Index(['ride_id', 'rideable_type', 'started_at', 'ended_at',\n",
       "       'start_station_name', 'start_station_id', 'end_station_name',\n",
       "       'end_station_id', 'start_lat', 'start_lng', 'end_lat', 'end_lng',\n",
       "       'member_casual', 'date', 'avgTemp', '_merge'],\n",
       "      dtype='object')"
      ]
     },
     "execution_count": 3,
     "metadata": {},
     "output_type": "execute_result"
    }
   ],
   "source": [
    "df.columns"
   ]
  },
  {
   "cell_type": "code",
   "execution_count": 6,
   "id": "0169c4dc-1bf5-49b5-9164-d07c2e73a507",
   "metadata": {
    "tags": []
   },
   "outputs": [],
   "source": [
    "# Create a value column and group by start and end station with long and lat\n",
    "\n",
    "df['value'] = 1\n",
    "df_final = df.groupby(['start_station_name', 'end_station_name','start_lat', 'start_lng', 'end_lat', 'end_lng'])['value'].count().reset_index()"
   ]
  },
  {
   "cell_type": "code",
   "execution_count": 7,
   "id": "50104479-6647-4336-9b5d-401f9190e118",
   "metadata": {
    "tags": []
   },
   "outputs": [],
   "source": [
    "# sort by value\n",
    "df_final = df_final.sort_values(by='value', ascending=False)"
   ]
  },
  {
   "cell_type": "code",
   "execution_count": 8,
   "id": "139c4b6d-7086-4cfe-bbe3-2a48c71ef4d0",
   "metadata": {
    "tags": []
   },
   "outputs": [
    {
     "data": {
      "text/html": [
       "<div>\n",
       "<style scoped>\n",
       "    .dataframe tbody tr th:only-of-type {\n",
       "        vertical-align: middle;\n",
       "    }\n",
       "\n",
       "    .dataframe tbody tr th {\n",
       "        vertical-align: top;\n",
       "    }\n",
       "\n",
       "    .dataframe thead th {\n",
       "        text-align: right;\n",
       "    }\n",
       "</style>\n",
       "<table border=\"1\" class=\"dataframe\">\n",
       "  <thead>\n",
       "    <tr style=\"text-align: right;\">\n",
       "      <th></th>\n",
       "      <th>start_station_name</th>\n",
       "      <th>end_station_name</th>\n",
       "      <th>start_lat</th>\n",
       "      <th>start_lng</th>\n",
       "      <th>end_lat</th>\n",
       "      <th>end_lng</th>\n",
       "      <th>value</th>\n",
       "    </tr>\n",
       "  </thead>\n",
       "  <tbody>\n",
       "    <tr>\n",
       "      <th>1414524</th>\n",
       "      <td>Central Park S &amp; 6 Ave</td>\n",
       "      <td>Central Park S &amp; 6 Ave</td>\n",
       "      <td>40.765909</td>\n",
       "      <td>-73.976342</td>\n",
       "      <td>40.765909</td>\n",
       "      <td>-73.976342</td>\n",
       "      <td>12480</td>\n",
       "    </tr>\n",
       "    <tr>\n",
       "      <th>642086</th>\n",
       "      <td>7 Ave &amp; Central Park South</td>\n",
       "      <td>7 Ave &amp; Central Park South</td>\n",
       "      <td>40.766741</td>\n",
       "      <td>-73.979069</td>\n",
       "      <td>40.766741</td>\n",
       "      <td>-73.979069</td>\n",
       "      <td>8957</td>\n",
       "    </tr>\n",
       "    <tr>\n",
       "      <th>3794063</th>\n",
       "      <td>Roosevelt Island Tramway</td>\n",
       "      <td>Roosevelt Island Tramway</td>\n",
       "      <td>40.757284</td>\n",
       "      <td>-73.953600</td>\n",
       "      <td>40.757284</td>\n",
       "      <td>-73.953600</td>\n",
       "      <td>8283</td>\n",
       "    </tr>\n",
       "    <tr>\n",
       "      <th>2747279</th>\n",
       "      <td>Grand Army Plaza &amp; Central Park S</td>\n",
       "      <td>Grand Army Plaza &amp; Central Park S</td>\n",
       "      <td>40.764397</td>\n",
       "      <td>-73.973715</td>\n",
       "      <td>40.764397</td>\n",
       "      <td>-73.973715</td>\n",
       "      <td>7790</td>\n",
       "    </tr>\n",
       "    <tr>\n",
       "      <th>1252913</th>\n",
       "      <td>Broadway &amp; W 58 St</td>\n",
       "      <td>Broadway &amp; W 58 St</td>\n",
       "      <td>40.766953</td>\n",
       "      <td>-73.981693</td>\n",
       "      <td>40.766953</td>\n",
       "      <td>-73.981693</td>\n",
       "      <td>7443</td>\n",
       "    </tr>\n",
       "  </tbody>\n",
       "</table>\n",
       "</div>"
      ],
      "text/plain": [
       "                        start_station_name                   end_station_name  \\\n",
       "1414524             Central Park S & 6 Ave             Central Park S & 6 Ave   \n",
       "642086          7 Ave & Central Park South         7 Ave & Central Park South   \n",
       "3794063           Roosevelt Island Tramway           Roosevelt Island Tramway   \n",
       "2747279  Grand Army Plaza & Central Park S  Grand Army Plaza & Central Park S   \n",
       "1252913                 Broadway & W 58 St                 Broadway & W 58 St   \n",
       "\n",
       "         start_lat  start_lng    end_lat    end_lng  value  \n",
       "1414524  40.765909 -73.976342  40.765909 -73.976342  12480  \n",
       "642086   40.766741 -73.979069  40.766741 -73.979069   8957  \n",
       "3794063  40.757284 -73.953600  40.757284 -73.953600   8283  \n",
       "2747279  40.764397 -73.973715  40.764397 -73.973715   7790  \n",
       "1252913  40.766953 -73.981693  40.766953 -73.981693   7443  "
      ]
     },
     "execution_count": 8,
     "metadata": {},
     "output_type": "execute_result"
    }
   ],
   "source": [
    "df_final.head()"
   ]
  },
  {
   "cell_type": "code",
   "execution_count": 9,
   "id": "8ae12161-d9f1-41ae-9021-15826b6be4fd",
   "metadata": {
    "tags": []
   },
   "outputs": [],
   "source": [
    "# create subset of 1000 rows\n",
    "df_final_2 = df_final. iloc[:1000]"
   ]
  },
  {
   "cell_type": "code",
   "execution_count": 10,
   "id": "067ade8b-6ba3-4c96-9c34-ba6a317ae182",
   "metadata": {
    "tags": []
   },
   "outputs": [
    {
     "data": {
      "text/plain": [
       "(1000, 7)"
      ]
     },
     "execution_count": 10,
     "metadata": {},
     "output_type": "execute_result"
    }
   ],
   "source": [
    "df_final_2.shape"
   ]
  },
  {
   "cell_type": "code",
   "execution_count": 11,
   "id": "aa0ad60c-8ae7-4605-88b9-9c48e45be534",
   "metadata": {},
   "outputs": [],
   "source": [
    "df_final_2.to_csv('df_final_locations_for_map.csv')"
   ]
  },
  {
   "cell_type": "code",
   "execution_count": null,
   "id": "254648fd-5097-452c-9962-2c6e76f8e9f0",
   "metadata": {},
   "outputs": [],
   "source": []
  }
 ],
 "metadata": {
  "kernelspec": {
   "display_name": "Python [conda env:Bike_Share]",
   "language": "python",
   "name": "conda-env-Bike_Share-py"
  },
  "language_info": {
   "codemirror_mode": {
    "name": "ipython",
    "version": 3
   },
   "file_extension": ".py",
   "mimetype": "text/x-python",
   "name": "python",
   "nbconvert_exporter": "python",
   "pygments_lexer": "ipython3",
   "version": "3.12.4"
  }
 },
 "nbformat": 4,
 "nbformat_minor": 5
}
